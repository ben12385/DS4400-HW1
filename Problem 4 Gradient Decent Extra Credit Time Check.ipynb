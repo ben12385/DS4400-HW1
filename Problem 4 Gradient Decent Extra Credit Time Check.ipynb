{
 "cells": [
  {
   "cell_type": "code",
   "execution_count": 4,
   "metadata": {},
   "outputs": [
    {
     "name": "stdout",
     "output_type": "stream",
     "text": [
      "Loaded kc_house_data file into array\n"
     ]
    }
   ],
   "source": [
    "from sklearn import linear_model\n",
    "from sklearn.metrics import mean_squared_error, r2_score\n",
    "import matplotlib.pyplot as plt\n",
    "import numpy as np\n",
    "import time\n",
    "\n",
    "datasetFile = open('./kc_house_data.csv', 'r')\n",
    "price = []\n",
    "bedrooms = []\n",
    "bathrooms = []\n",
    "sqft_living = []\n",
    "sqft_lot = []\n",
    "floors = []\n",
    "waterfront = []\n",
    "view = []\n",
    "condition = []\n",
    "grade = []\n",
    "sqft_above = []\n",
    "sqft_basement = []\n",
    "yr_built = []\n",
    "yr_renovated = []\n",
    "zipcode = []\n",
    "lat = []\n",
    "long = []\n",
    "sqft_living15 = []\n",
    "sqft_lot15 = []\n",
    "datasetFile.readline()\n",
    "\n",
    "for line in datasetFile:\n",
    "    splitedLine = line.split(',')\n",
    "    price.append(float(splitedLine[2]))\n",
    "    bedrooms.append(float(splitedLine[3]))\n",
    "    bathrooms.append(float(splitedLine[4]))\n",
    "    sqft_living.append(float(splitedLine[5]))\n",
    "    sqft_lot.append(float(splitedLine[6]))\n",
    "    a = splitedLine[7]\n",
    "    floors.append(float(a[1:-1]))\n",
    "    waterfront.append(float(splitedLine[8]))\n",
    "    view.append(float(splitedLine[9]))\n",
    "    condition.append(float(splitedLine[10]))\n",
    "    grade.append(float(splitedLine[11]))\n",
    "    sqft_above.append(float(splitedLine[12]))\n",
    "    sqft_basement.append(float(splitedLine[13]))\n",
    "    yr_built.append(float(splitedLine[14]))\n",
    "    yr_renovated.append(float(splitedLine[15]))\n",
    "    a = splitedLine[16]\n",
    "    zipcode.append(float(a[1:-1]))\n",
    "    a = splitedLine[17]\n",
    "    lat.append(float(a[1:-1]))\n",
    "    long.append(float(splitedLine[18]))\n",
    "    sqft_living15.append(float(splitedLine[19]))\n",
    "    sqft_lot15.append(float(splitedLine[20]))\n",
    "print(\"Loaded kc_house_data file into array\")"
   ]
  },
  {
   "cell_type": "code",
   "execution_count": 5,
   "metadata": {},
   "outputs": [
    {
     "name": "stdout",
     "output_type": "stream",
     "text": [
      "Normalized kc_house_data features\n"
     ]
    }
   ],
   "source": [
    "import math\n",
    "\n",
    "def normalize(toNormalize):\n",
    "    listSquared = np.square(toNormalize)\n",
    "    #Calculate mean\n",
    "    mean = np.sum(toNormalize)/len(toNormalize)\n",
    "    \n",
    "    #Calculate Standard Deviation\n",
    "    difference = np.square(toNormalize-mean)\n",
    "    variance = np.sum(difference)/len(toNormalize)\n",
    "    variance = math.sqrt(variance)\n",
    "    \n",
    "    #Normalize\n",
    "    toNormalize = toNormalize - mean\n",
    "    toNormalize = np.true_divide(toNormalize,variance)\n",
    "    return toNormalize, mean, variance\n",
    "    \n",
    "normalizedBedrooms = normalize(bedrooms)\n",
    "normalizedBathrooms = normalize(bathrooms)\n",
    "normalizedSqft_living = normalize(sqft_living)\n",
    "normalizedSqft_lot = normalize(sqft_lot)\n",
    "normalizedFloors = normalize(floors)\n",
    "normalizedWaterfront = normalize(waterfront)\n",
    "normalizedView = normalize(view)\n",
    "normalizedCondition = normalize(condition)\n",
    "normalizedGrade = normalize(grade)\n",
    "normalizedSqft_above = normalize(sqft_above)\n",
    "normalizedSqft_basement = normalize(sqft_basement)\n",
    "normalizedYr_built = normalize(yr_built)\n",
    "normalizedYr_renovated = normalize(yr_renovated)\n",
    "normalizedZipcode = normalize(zipcode)\n",
    "normalizedLat = normalize(lat)\n",
    "normalizedLong = normalize(long)\n",
    "normalizedSqft_living15 = normalize(sqft_living15)\n",
    "normalizedSqft_lot15 = normalize(sqft_lot15)\n",
    "print(\"Normalized kc_house_data features\")\n",
    "    \n"
   ]
  },
  {
   "cell_type": "code",
   "execution_count": 44,
   "metadata": {},
   "outputs": [
    {
     "name": "stdout",
     "output_type": "stream",
     "text": [
      "0.02692890167236328\n"
     ]
    }
   ],
   "source": [
    "#With Package\n",
    "\n",
    "\n",
    "normalizedFeatures = np.array([normalizedBedrooms[0],  normalizedBathrooms[0],  normalizedSqft_living[0],  \n",
    "                               normalizedSqft_lot[0],  normalizedFloors[0],  normalizedWaterfront[0],  \n",
    "                               normalizedView[0],  normalizedCondition[0], normalizedGrade[0],  normalizedSqft_above[0],  \n",
    "                               normalizedSqft_basement[0], normalizedYr_built[0],  normalizedYr_renovated[0],  \n",
    "                               normalizedZipcode[0], normalizedLat[0], normalizedLong[0],  normalizedSqft_living15[0],  \n",
    "                               normalizedSqft_lot15[0]])\n",
    "normalizedFeatures = np.transpose(normalizedFeatures)\n",
    "\n",
    "# Create linear regression object\n",
    "start = time.time()\n",
    "normalizedRegr = linear_model.LinearRegression(normalize=False)\n",
    "normalizedRegr.fit(normalizedFeatures, price)\n",
    "\n",
    "end = time.time()\n",
    "print(end - start)"
   ]
  },
  {
   "cell_type": "code",
   "execution_count": 46,
   "metadata": {},
   "outputs": [
    {
     "name": "stdout",
     "output_type": "stream",
     "text": [
      "0.34407973289489746\n"
     ]
    }
   ],
   "source": [
    "#With Implementation\n",
    "\n",
    "\n",
    "def calculateLossSlope(features, pred_output, actual_output):\n",
    "    multiplied = np.matmul(np.transpose(features), pred_output - actual_output)\n",
    "    return multiplied * (2/len(features))\n",
    "\n",
    "def gradient_decent(features, expected_output, learningRate, numberOfIterations):\n",
    "    #theta = np.random.randn(len(features[0]))\n",
    "    theta = np.ones(len(features[0]))\n",
    "    for i in range(0, numberOfIterations):   \n",
    "        pred_output = np.matmul(features,theta)\n",
    "        slope = calculateLossSlope(features, pred_output, expected_output)\n",
    "        theta = theta - learningRate*slope\n",
    "    return theta\n",
    "\n",
    "normalizedFeatures = np.array([normalizedBedrooms[0],  normalizedBathrooms[0],  normalizedSqft_living[0],  \n",
    "                               normalizedSqft_lot[0],  normalizedFloors[0],  normalizedWaterfront[0],  \n",
    "                               normalizedView[0],  normalizedCondition[0], normalizedGrade[0],  normalizedSqft_above[0],  \n",
    "                               normalizedSqft_basement[0], normalizedYr_built[0],  normalizedYr_renovated[0],  \n",
    "                               normalizedZipcode[0], normalizedLat[0], normalizedLong[0],  normalizedSqft_living15[0],  \n",
    "                               normalizedSqft_lot15[0]])\n",
    "normalizedFeatures = np.transpose(normalizedFeatures)\n",
    "\n",
    "start = time.time()\n",
    "theta = gradient_decent(normalizedFeatures, price, 0.1, 100)\n",
    "\n",
    "end = time.time()\n",
    "print(end - start)"
   ]
  },
  {
   "cell_type": "code",
   "execution_count": null,
   "metadata": {},
   "outputs": [],
   "source": []
  }
 ],
 "metadata": {
  "kernelspec": {
   "display_name": "Python 3",
   "language": "python",
   "name": "python3"
  },
  "language_info": {
   "codemirror_mode": {
    "name": "ipython",
    "version": 3
   },
   "file_extension": ".py",
   "mimetype": "text/x-python",
   "name": "python",
   "nbconvert_exporter": "python",
   "pygments_lexer": "ipython3",
   "version": "3.6.5"
  }
 },
 "nbformat": 4,
 "nbformat_minor": 2
}
