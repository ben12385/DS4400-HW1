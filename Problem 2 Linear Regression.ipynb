{
 "cells": [
  {
   "cell_type": "code",
   "execution_count": 9,
   "metadata": {},
   "outputs": [
    {
     "name": "stdout",
     "output_type": "stream",
     "text": [
      "Loaded train file into array\n"
     ]
    }
   ],
   "source": [
    "from sklearn import linear_model\n",
    "from sklearn.metrics import mean_squared_error, r2_score\n",
    "import matplotlib.pyplot as plt\n",
    "import numpy as np\n",
    "\n",
    "datasetFile = open('./train.csv', 'r')\n",
    "price = []\n",
    "bedrooms = []\n",
    "bathrooms = []\n",
    "sqft_living = []\n",
    "sqft_lot = []\n",
    "floors = []\n",
    "waterfront = []\n",
    "view = []\n",
    "condition = []\n",
    "grade = []\n",
    "sqft_above = []\n",
    "sqft_basement = []\n",
    "yr_built = []\n",
    "yr_renovated = []\n",
    "zipcode = []\n",
    "lat = []\n",
    "long = []\n",
    "sqft_living15 = []\n",
    "sqft_lot15 = []\n",
    "datasetFile.readline()\n",
    "\n",
    "for line in datasetFile:\n",
    "    splitedLine = line.split(',')\n",
    "    price.append(float(splitedLine[1]))\n",
    "    bedrooms.append(float(splitedLine[2]))\n",
    "    bathrooms.append(float(splitedLine[3]))\n",
    "    sqft_living.append(float(splitedLine[4]))\n",
    "    sqft_lot.append(float(splitedLine[5]))\n",
    "    floors.append(float(splitedLine[6]))\n",
    "    waterfront.append(float(splitedLine[7]))\n",
    "    view.append(float(splitedLine[8]))\n",
    "    condition.append(float(splitedLine[9]))\n",
    "    grade.append(float(splitedLine[10]))\n",
    "    sqft_above.append(float(splitedLine[11]))\n",
    "    sqft_basement.append(float(splitedLine[12]))\n",
    "    yr_built.append(float(splitedLine[13]))\n",
    "    yr_renovated.append(float(splitedLine[14]))\n",
    "    zipcode.append(float(splitedLine[15]))\n",
    "    lat.append(float(splitedLine[16]))\n",
    "    long.append(float(splitedLine[17]))\n",
    "    sqft_living15.append(float(splitedLine[18]))\n",
    "    sqft_lot15.append(float(splitedLine[19]))\n",
    "print(\"Loaded train file into array\")"
   ]
  },
  {
   "cell_type": "code",
   "execution_count": 10,
   "metadata": {
    "scrolled": true
   },
   "outputs": [
    {
     "name": "stdout",
     "output_type": "stream",
     "text": [
      "Unnormalized Linear Regression\n",
      "MSE: 31119892883.73362\n",
      "RSS: 31119892883733.61719\n",
      "R^2: 0.72971\n"
     ]
    }
   ],
   "source": [
    "#Unnormalized Linear Regression\n",
    "unNormalizedFeatures = np.array([bedrooms, bathrooms, sqft_living, sqft_lot, floors, waterfront, view, \n",
    "              condition, grade, sqft_above, sqft_basement, yr_built, yr_renovated,\n",
    "              zipcode, lat, long, sqft_living15, sqft_lot15])\n",
    "unNormalizedFeatures = np.transpose(unNormalizedFeatures)\n",
    "\n",
    "# Create linear regression object\n",
    "regrUnnormalized = linear_model.LinearRegression(normalize = False)\n",
    "\n",
    "regrUnnormalized.fit(unNormalizedFeatures, price)\n",
    "\n",
    "# Make predictions using the same set\n",
    "price_pred = regrUnnormalized.predict(unNormalizedFeatures)\n",
    "\n",
    "print(\"Unnormalized Linear Regression\")\n",
    "# The metrics\n",
    "#print('Intercept: \\n', regrUnnormalized.intercept_)\n",
    "#print('Coefficients: \\n', regrUnnormalized.coef_)\n",
    "\n",
    "print(\"MSE: %.5f\" % mean_squared_error(price, price_pred))\n",
    "residual = (price-price_pred)\n",
    "residual = np.square(residual)\n",
    "print(\"RSS: %.5f\" % np.sum(residual))\n",
    "print(\"R^2: %.5f\" % regrUnnormalized.score(unNormalizedFeatures, price))"
   ]
  },
  {
   "cell_type": "code",
   "execution_count": 16,
   "metadata": {
    "scrolled": true
   },
   "outputs": [
    {
     "name": "stdout",
     "output_type": "stream",
     "text": [
      "Normalized Linear Regression\n",
      "Coefficients: \n",
      " [-14193.34597516  18469.9389113   56488.92735903  10588.0143612\n",
      "  10903.79993012  63678.28597647  49623.15433652  11297.76666912\n",
      "  92897.54720829  48353.97539294  26513.26306594 -72824.39093607\n",
      "  16903.63553859 -24317.32500315  82751.75364978 -10540.19856373\n",
      "  41575.1510274  -11204.92953814]\n",
      "MSE: 31119892883.73362\n",
      "RSS: 31119892883733.62109\n",
      "R^2: 0.72971\n"
     ]
    }
   ],
   "source": [
    "#Normalized Linear Regression\n",
    "import math\n",
    "\n",
    "def normalize(toNormalize):\n",
    "    listSquared = np.square(toNormalize)\n",
    "    #Calculate mean\n",
    "    mean = np.sum(toNormalize)/len(toNormalize)\n",
    "    \n",
    "    #Calculate Standard Deviation\n",
    "    difference = np.square(toNormalize-mean)\n",
    "    variance = np.sum(difference)/len(toNormalize)\n",
    "    variance = math.sqrt(variance)\n",
    "    \n",
    "    #Normalize\n",
    "    toNormalize = toNormalize - mean\n",
    "    toNormalize = np.true_divide(toNormalize,variance)\n",
    "    return toNormalize, mean, variance\n",
    "    \n",
    "normalizedBedrooms = normalize(bedrooms)\n",
    "normalizedBathrooms = normalize(bathrooms)\n",
    "normalizedSqft_living = normalize(sqft_living)\n",
    "normalizedSqft_lot = normalize(sqft_lot)\n",
    "normalizedFloors = normalize(floors)\n",
    "normalizedWaterfront = normalize(waterfront)\n",
    "normalizedView = normalize(view)\n",
    "normalizedCondition = normalize(condition)\n",
    "normalizedGrade = normalize(grade)\n",
    "normalizedSqft_above = normalize(sqft_above)\n",
    "normalizedSqft_basement = normalize(sqft_basement)\n",
    "normalizedYr_built = normalize(yr_built)\n",
    "normalizedYr_renovated = normalize(yr_renovated)\n",
    "normalizedZipcode = normalize(zipcode)\n",
    "normalizedLat = normalize(lat)\n",
    "normalizedLong = normalize(long)\n",
    "normalizedSqft_living15 = normalize(sqft_living15)\n",
    "normalizedSqft_lot15 = normalize(sqft_lot15)\n",
    "    \n",
    "normalizedFeatures = np.array([normalizedBedrooms[0],  normalizedBathrooms[0],  normalizedSqft_living[0],  \n",
    "                               normalizedSqft_lot[0],  normalizedFloors[0],  normalizedWaterfront[0],  \n",
    "                               normalizedView[0],  normalizedCondition[0], normalizedGrade[0],  normalizedSqft_above[0],  \n",
    "                               normalizedSqft_basement[0], normalizedYr_built[0],  normalizedYr_renovated[0],  \n",
    "                               normalizedZipcode[0], normalizedLat[0], normalizedLong[0],  normalizedSqft_living15[0],  \n",
    "                               normalizedSqft_lot15[0]])\n",
    "normalizedFeatures = np.transpose(normalizedFeatures)\n",
    "\n",
    "\n",
    "# Create linear regression object\n",
    "normalizedRegr = linear_model.LinearRegression(fit_intercept=True, normalize=False)\n",
    "normalizedRegr.fit(normalizedFeatures, price)\n",
    "\n",
    "# Make predictions using the testing set\n",
    "price_pred_Normalized = normalizedRegr.predict(normalizedFeatures)\n",
    "\n",
    "print(\"Normalized Linear Regression\")\n",
    "#print('Intercept: \\n', normalizedRegr.intercept_)\n",
    "#print('Coefficients: \\n', normalizedRegr.coef_)\n",
    "\n",
    "# The metrics\n",
    "print(\"MSE: %.5f\" % mean_squared_error(price, price_pred_Normalized))\n",
    "residual = (price-price_pred_Normalized)\n",
    "residual = np.square(residual)\n",
    "print(\"RSS: %.5f\" % np.sum(residual))\n",
    "print(\"R^2: %.5f\" % normalizedRegr.score(normalizedFeatures, price))"
   ]
  },
  {
   "cell_type": "code",
   "execution_count": 12,
   "metadata": {},
   "outputs": [
    {
     "name": "stdout",
     "output_type": "stream",
     "text": [
      "Loaded test file into array\n"
     ]
    }
   ],
   "source": [
    "datasetFile = open('./test.csv', 'r')\n",
    "test_price = []\n",
    "test_bedrooms = []\n",
    "test_bathrooms = []\n",
    "test_sqft_living = []\n",
    "test_sqft_lot = []\n",
    "test_floors = []\n",
    "test_waterfront = []\n",
    "test_view = []\n",
    "test_condition = []\n",
    "test_grade = []\n",
    "test_sqft_above = []\n",
    "test_sqft_basement = []\n",
    "test_yr_built = []\n",
    "test_yr_renovated = []\n",
    "test_zipcode = []\n",
    "test_lat = []\n",
    "test_long = []\n",
    "test_sqft_living15 = []\n",
    "test_sqft_lot15 = []\n",
    "datasetFile.readline()\n",
    "\n",
    "for line in datasetFile:\n",
    "    splitedLine = line.split(',')\n",
    "    test_price.append(float(splitedLine[3]))\n",
    "    test_bedrooms.append(float(splitedLine[4]))\n",
    "    test_bathrooms.append(float(splitedLine[5]))\n",
    "    test_sqft_living.append(float(splitedLine[6]))\n",
    "    test_sqft_lot.append(float(splitedLine[7]))\n",
    "    test_floors.append(float(splitedLine[8]))\n",
    "    test_waterfront.append(float(splitedLine[9]))\n",
    "    test_view.append(float(splitedLine[10]))\n",
    "    test_condition.append(float(splitedLine[11]))\n",
    "    test_grade.append(float(splitedLine[12]))\n",
    "    test_sqft_above.append(float(splitedLine[13]))\n",
    "    test_sqft_basement.append(float(splitedLine[14]))\n",
    "    test_yr_built.append(float(splitedLine[15]))\n",
    "    test_yr_renovated.append(float(splitedLine[16]))\n",
    "    test_zipcode.append(float(splitedLine[17]))\n",
    "    test_lat.append(float(splitedLine[18]))\n",
    "    test_long.append(float(splitedLine[19]))\n",
    "    test_sqft_living15.append(float(splitedLine[20]))\n",
    "    test_sqft_lot15.append(float(splitedLine[21]))\n",
    "print(\"Loaded test file into array\")"
   ]
  },
  {
   "cell_type": "code",
   "execution_count": 14,
   "metadata": {},
   "outputs": [
    {
     "name": "stdout",
     "output_type": "stream",
     "text": [
      "Unnormalized Linear Regression with Test Set\n",
      "MSE: 57161532843.15225\n",
      "RSS: 57161532843152.25000\n",
      "R^2: 0.65715\n"
     ]
    }
   ],
   "source": [
    "unNormalizedFeatures = np.array([test_bedrooms, test_bathrooms, test_sqft_living, test_sqft_lot, test_floors, test_waterfront, test_view, \n",
    "              test_condition, test_grade, test_sqft_above, test_sqft_basement, test_yr_built, test_yr_renovated,\n",
    "              test_zipcode, test_lat, test_long, test_sqft_living15, test_sqft_lot15])\n",
    "unNormalizedFeatures = np.transpose(unNormalizedFeatures)\n",
    "\n",
    "price_pred = regrUnnormalized.predict(unNormalizedFeatures)\n",
    "\n",
    "print(\"Unnormalized Linear Regression with Test Set\")\n",
    "# The metrics\n",
    "print(\"MSE: %.5f\" % mean_squared_error(test_price, price_pred))\n",
    "residual = (test_price-price_pred)\n",
    "residual = np.square(residual)\n",
    "print(\"RSS: %.5f\" % np.sum(residual))\n",
    "print(\"R^2: %.5f\" % regrUnnormalized.score(unNormalizedFeatures, test_price))"
   ]
  },
  {
   "cell_type": "code",
   "execution_count": 15,
   "metadata": {},
   "outputs": [
    {
     "name": "stdout",
     "output_type": "stream",
     "text": [
      "Normalized Linear Regression with Test Set\n",
      "MSE: 57161532843.15833\n",
      "RSS: 57161532843158.32812\n",
      "R^2: 0.65715\n"
     ]
    }
   ],
   "source": [
    "def normalizeTo(toNormalize, mean, var):\n",
    "    #Normalize\n",
    "    normalized = list()    \n",
    "    for a in toNormalize:\n",
    "        toAdd = (a-mean)/var\n",
    "        normalized.append(toAdd)\n",
    "        \n",
    "    return normalized\n",
    "\n",
    "test_normalized_bedrooms = normalizeTo(test_bedrooms,normalizedBedrooms[1],normalizedBedrooms[2])\n",
    "test_normalized_bathrooms = normalizeTo(test_bathrooms, normalizedBathrooms[1], normalizedBathrooms[2])\n",
    "test_normalized_sqft_living = normalizeTo(test_sqft_living, normalizedSqft_living[1], normalizedSqft_living[2])\n",
    "test_normalized_sqft_lot = normalizeTo(test_sqft_lot, normalizedSqft_lot[1], normalizedSqft_lot[2])\n",
    "test_normalized_floors = normalizeTo(test_floors, normalizedFloors[1], normalizedFloors[2])\n",
    "test_normalized_waterfront = normalizeTo(test_waterfront, normalizedWaterfront[1], normalizedWaterfront[2])\n",
    "test_normalized_view = normalizeTo(test_view, normalizedView[1], normalizedView[2])\n",
    "test_normalized_condition = normalizeTo(test_condition, normalizedCondition[1], normalizedCondition[2])\n",
    "test_normalized_grade = normalizeTo(test_grade, normalizedGrade[1], normalizedGrade[2])\n",
    "test_normalized_sqft_above = normalizeTo(test_sqft_above, normalizedSqft_above[1], normalizedSqft_above[2])\n",
    "test_normalized_sqft_basement = normalizeTo(test_sqft_basement, normalizedSqft_basement[1], normalizedSqft_basement[2])\n",
    "test_normalized_yr_built = normalizeTo(test_yr_built, normalizedYr_built[1], normalizedYr_built[2])\n",
    "test_normalized_yr_renovated = normalizeTo(test_yr_renovated, normalizedYr_renovated[1], normalizedYr_renovated[2])\n",
    "test_normalized_zipcode = normalizeTo(test_zipcode, normalizedZipcode[1], normalizedZipcode[2])\n",
    "test_normalized_lat = normalizeTo(test_lat, normalizedLat[1], normalizedLat[2])\n",
    "test_normalized_long = normalizeTo(test_long, normalizedLong[1], normalizedLong[2])\n",
    "test_normalized_sqft_living15 = normalizeTo(test_sqft_living15, normalizedSqft_living15[1], normalizedSqft_living15[2])\n",
    "test_normalized_sqft_lot15 = normalizeTo(test_sqft_lot15, normalizedSqft_lot15[1], normalizedSqft_lot15[2])\n",
    "\n",
    "normalizedFeatures = np.array([test_normalized_bedrooms, test_normalized_bathrooms, test_normalized_sqft_living, test_normalized_sqft_lot, test_normalized_floors, \n",
    "                               test_normalized_waterfront, test_normalized_view, test_normalized_condition, test_normalized_grade, test_normalized_sqft_above, \n",
    "                               test_normalized_sqft_basement, test_normalized_yr_built, test_normalized_yr_renovated, test_normalized_zipcode, test_normalized_lat, \n",
    "                               test_normalized_long, test_normalized_sqft_living15, test_normalized_sqft_lot15])\n",
    "normalizedFeatures = np.transpose(normalizedFeatures)\n",
    "\n",
    "\n",
    "price_pred = normalizedRegr.predict(normalizedFeatures)\n",
    "\n",
    "print(\"Normalized Linear Regression with Test Set\")\n",
    "# The metrics\n",
    "print(\"MSE: %.5f\" % mean_squared_error(test_price, price_pred))\n",
    "residual = (test_price-price_pred)\n",
    "residual = np.square(residual)\n",
    "print(\"RSS: %.5f\" % np.sum(residual))\n",
    "print(\"R^2: %.5f\" % normalizedRegr.score(normalizedFeatures, test_price))\n"
   ]
  },
  {
   "cell_type": "code",
   "execution_count": null,
   "metadata": {},
   "outputs": [],
   "source": []
  }
 ],
 "metadata": {
  "kernelspec": {
   "display_name": "Python 3",
   "language": "python",
   "name": "python3"
  },
  "language_info": {
   "codemirror_mode": {
    "name": "ipython",
    "version": 3
   },
   "file_extension": ".py",
   "mimetype": "text/x-python",
   "name": "python",
   "nbconvert_exporter": "python",
   "pygments_lexer": "ipython3",
   "version": "3.6.5"
  }
 },
 "nbformat": 4,
 "nbformat_minor": 2
}
